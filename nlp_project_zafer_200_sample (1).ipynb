{
  "nbformat": 4,
  "nbformat_minor": 0,
  "metadata": {
    "hide_input": false,
    "kernelspec": {
      "display_name": "Python 3",
      "language": "python",
      "name": "python3"
    },
    "language_info": {
      "codemirror_mode": {
        "name": "ipython",
        "version": 3
      },
      "file_extension": ".py",
      "mimetype": "text/x-python",
      "name": "python",
      "nbconvert_exporter": "python",
      "pygments_lexer": "ipython3",
      "version": "3.6.3"
    },
    "colab": {
      "name": "nlp_project_zafer.ipynb",
      "provenance": [],
      "collapsed_sections": [],
      "toc_visible": true
    }
  },
  "cells": [
    {
      "cell_type": "markdown",
      "metadata": {
        "id": "N2urQH0-J5VP"
      },
      "source": [
        "**Ahmet Zafer SAGLIK - Example QS Model**"
      ]
    },
    {
      "cell_type": "markdown",
      "metadata": {
        "id": "UqrKaB0rH6HV"
      },
      "source": [
        "** Creating and training a ML Question-Answer(QA) Model which given a Query-question predicts the best answer from the context given. The dataset given consists of N source texts and M questions per source. For each question there is an answer given from the text, as well as a list of alternatives answers within the text too.**\n",
        "\n",
        "**Steps:**\n",
        "\n",
        "\n",
        "1.   INSTALL THE NECESSARY LIBRARIES\n",
        "2.   IMPORT THE NECESSARY LIBRARIES\n",
        "3.   CREATE DICTIONARY FOR NER DETECTION\n",
        "4.   TRAIN MODELS(BERT,NERD)\n",
        "5.   EVALUATION AND TESTING\n",
        "6.   RESULTS\n",
        "\n",
        "Just give the Test Data to Read Function with Sample Number\n",
        "\n",
        "Careful: Bert is slow so Dont give big numbers"
      ]
    },
    {
      "cell_type": "markdown",
      "metadata": {
        "id": "cX6ErCYPFupc"
      },
      "source": [
        "# **INSTALL THE NECESSARY LIBRARIES**"
      ]
    },
    {
      "cell_type": "code",
      "metadata": {
        "colab": {
          "base_uri": "https://localhost:8080/"
        },
        "id": "phoxnJTZwHRU",
        "outputId": "bdecdb01-464e-4695-b227-55cded35b954"
      },
      "source": [
        "!pip install ner-d"
      ],
      "execution_count": 1,
      "outputs": [
        {
          "output_type": "stream",
          "text": [
            "Requirement already satisfied: ner-d in /usr/local/lib/python3.7/dist-packages (0.4.0)\n",
            "Requirement already satisfied: spacy==2.2.2 in /usr/local/lib/python3.7/dist-packages (from ner-d) (2.2.2)\n",
            "Requirement already satisfied: requests<3.0.0,>=2.13.0 in /usr/local/lib/python3.7/dist-packages (from spacy==2.2.2->ner-d) (2.23.0)\n",
            "Requirement already satisfied: wasabi<1.1.0,>=0.3.0 in /usr/local/lib/python3.7/dist-packages (from spacy==2.2.2->ner-d) (0.8.2)\n",
            "Requirement already satisfied: srsly<1.1.0,>=0.1.0 in /usr/local/lib/python3.7/dist-packages (from spacy==2.2.2->ner-d) (1.0.5)\n",
            "Requirement already satisfied: numpy>=1.15.0 in /usr/local/lib/python3.7/dist-packages (from spacy==2.2.2->ner-d) (1.19.5)\n",
            "Requirement already satisfied: plac<1.2.0,>=0.9.6 in /usr/local/lib/python3.7/dist-packages (from spacy==2.2.2->ner-d) (1.1.3)\n",
            "Requirement already satisfied: importlib-metadata>=0.20; python_version < \"3.8\" in /usr/local/lib/python3.7/dist-packages (from spacy==2.2.2->ner-d) (3.10.1)\n",
            "Requirement already satisfied: setuptools in /usr/local/lib/python3.7/dist-packages (from spacy==2.2.2->ner-d) (56.0.0)\n",
            "Requirement already satisfied: preshed<3.1.0,>=3.0.2 in /usr/local/lib/python3.7/dist-packages (from spacy==2.2.2->ner-d) (3.0.5)\n",
            "Requirement already satisfied: murmurhash<1.1.0,>=0.28.0 in /usr/local/lib/python3.7/dist-packages (from spacy==2.2.2->ner-d) (1.0.5)\n",
            "Requirement already satisfied: thinc<7.4.0,>=7.3.0 in /usr/local/lib/python3.7/dist-packages (from spacy==2.2.2->ner-d) (7.3.1)\n",
            "Requirement already satisfied: blis<0.5.0,>=0.4.0 in /usr/local/lib/python3.7/dist-packages (from spacy==2.2.2->ner-d) (0.4.1)\n",
            "Requirement already satisfied: cymem<2.1.0,>=2.0.2 in /usr/local/lib/python3.7/dist-packages (from spacy==2.2.2->ner-d) (2.0.5)\n",
            "Requirement already satisfied: urllib3!=1.25.0,!=1.25.1,<1.26,>=1.21.1 in /usr/local/lib/python3.7/dist-packages (from requests<3.0.0,>=2.13.0->spacy==2.2.2->ner-d) (1.24.3)\n",
            "Requirement already satisfied: certifi>=2017.4.17 in /usr/local/lib/python3.7/dist-packages (from requests<3.0.0,>=2.13.0->spacy==2.2.2->ner-d) (2020.12.5)\n",
            "Requirement already satisfied: idna<3,>=2.5 in /usr/local/lib/python3.7/dist-packages (from requests<3.0.0,>=2.13.0->spacy==2.2.2->ner-d) (2.10)\n",
            "Requirement already satisfied: chardet<4,>=3.0.2 in /usr/local/lib/python3.7/dist-packages (from requests<3.0.0,>=2.13.0->spacy==2.2.2->ner-d) (3.0.4)\n",
            "Requirement already satisfied: zipp>=0.5 in /usr/local/lib/python3.7/dist-packages (from importlib-metadata>=0.20; python_version < \"3.8\"->spacy==2.2.2->ner-d) (3.4.1)\n",
            "Requirement already satisfied: typing-extensions>=3.6.4; python_version < \"3.8\" in /usr/local/lib/python3.7/dist-packages (from importlib-metadata>=0.20; python_version < \"3.8\"->spacy==2.2.2->ner-d) (3.7.4.3)\n",
            "Requirement already satisfied: tqdm<5.0.0,>=4.10.0 in /usr/local/lib/python3.7/dist-packages (from thinc<7.4.0,>=7.3.0->spacy==2.2.2->ner-d) (4.41.1)\n"
          ],
          "name": "stdout"
        }
      ]
    },
    {
      "cell_type": "code",
      "metadata": {
        "colab": {
          "base_uri": "https://localhost:8080/"
        },
        "id": "7wm-27dciW0W",
        "outputId": "a1dd4aad-5c1b-49d8-9e74-1d275a249d10"
      },
      "source": [
        "!pip install sentence-transformers"
      ],
      "execution_count": 2,
      "outputs": [
        {
          "output_type": "stream",
          "text": [
            "Requirement already satisfied: sentence-transformers in /usr/local/lib/python3.7/dist-packages (1.1.0)\n",
            "Requirement already satisfied: sentencepiece in /usr/local/lib/python3.7/dist-packages (from sentence-transformers) (0.1.95)\n",
            "Requirement already satisfied: torch>=1.6.0 in /usr/local/lib/python3.7/dist-packages (from sentence-transformers) (1.8.1+cu101)\n",
            "Requirement already satisfied: scipy in /usr/local/lib/python3.7/dist-packages (from sentence-transformers) (1.4.1)\n",
            "Requirement already satisfied: transformers<5.0.0,>=3.1.0 in /usr/local/lib/python3.7/dist-packages (from sentence-transformers) (4.5.1)\n",
            "Requirement already satisfied: nltk in /usr/local/lib/python3.7/dist-packages (from sentence-transformers) (3.2.5)\n",
            "Requirement already satisfied: tqdm in /usr/local/lib/python3.7/dist-packages (from sentence-transformers) (4.41.1)\n",
            "Requirement already satisfied: scikit-learn in /usr/local/lib/python3.7/dist-packages (from sentence-transformers) (0.22.2.post1)\n",
            "Requirement already satisfied: numpy in /usr/local/lib/python3.7/dist-packages (from sentence-transformers) (1.19.5)\n",
            "Requirement already satisfied: typing-extensions in /usr/local/lib/python3.7/dist-packages (from torch>=1.6.0->sentence-transformers) (3.7.4.3)\n",
            "Requirement already satisfied: regex!=2019.12.17 in /usr/local/lib/python3.7/dist-packages (from transformers<5.0.0,>=3.1.0->sentence-transformers) (2019.12.20)\n",
            "Requirement already satisfied: sacremoses in /usr/local/lib/python3.7/dist-packages (from transformers<5.0.0,>=3.1.0->sentence-transformers) (0.0.45)\n",
            "Requirement already satisfied: importlib-metadata; python_version < \"3.8\" in /usr/local/lib/python3.7/dist-packages (from transformers<5.0.0,>=3.1.0->sentence-transformers) (3.10.1)\n",
            "Requirement already satisfied: packaging in /usr/local/lib/python3.7/dist-packages (from transformers<5.0.0,>=3.1.0->sentence-transformers) (20.9)\n",
            "Requirement already satisfied: tokenizers<0.11,>=0.10.1 in /usr/local/lib/python3.7/dist-packages (from transformers<5.0.0,>=3.1.0->sentence-transformers) (0.10.2)\n",
            "Requirement already satisfied: filelock in /usr/local/lib/python3.7/dist-packages (from transformers<5.0.0,>=3.1.0->sentence-transformers) (3.0.12)\n",
            "Requirement already satisfied: requests in /usr/local/lib/python3.7/dist-packages (from transformers<5.0.0,>=3.1.0->sentence-transformers) (2.23.0)\n",
            "Requirement already satisfied: six in /usr/local/lib/python3.7/dist-packages (from nltk->sentence-transformers) (1.15.0)\n",
            "Requirement already satisfied: joblib>=0.11 in /usr/local/lib/python3.7/dist-packages (from scikit-learn->sentence-transformers) (1.0.1)\n",
            "Requirement already satisfied: click in /usr/local/lib/python3.7/dist-packages (from sacremoses->transformers<5.0.0,>=3.1.0->sentence-transformers) (7.1.2)\n",
            "Requirement already satisfied: zipp>=0.5 in /usr/local/lib/python3.7/dist-packages (from importlib-metadata; python_version < \"3.8\"->transformers<5.0.0,>=3.1.0->sentence-transformers) (3.4.1)\n",
            "Requirement already satisfied: pyparsing>=2.0.2 in /usr/local/lib/python3.7/dist-packages (from packaging->transformers<5.0.0,>=3.1.0->sentence-transformers) (2.4.7)\n",
            "Requirement already satisfied: idna<3,>=2.5 in /usr/local/lib/python3.7/dist-packages (from requests->transformers<5.0.0,>=3.1.0->sentence-transformers) (2.10)\n",
            "Requirement already satisfied: urllib3!=1.25.0,!=1.25.1,<1.26,>=1.21.1 in /usr/local/lib/python3.7/dist-packages (from requests->transformers<5.0.0,>=3.1.0->sentence-transformers) (1.24.3)\n",
            "Requirement already satisfied: certifi>=2017.4.17 in /usr/local/lib/python3.7/dist-packages (from requests->transformers<5.0.0,>=3.1.0->sentence-transformers) (2020.12.5)\n",
            "Requirement already satisfied: chardet<4,>=3.0.2 in /usr/local/lib/python3.7/dist-packages (from requests->transformers<5.0.0,>=3.1.0->sentence-transformers) (3.0.4)\n"
          ],
          "name": "stdout"
        }
      ]
    },
    {
      "cell_type": "markdown",
      "metadata": {
        "id": "RHh1-CSoGFwV"
      },
      "source": [
        "# **IMPORT THE NECESSARY LIBRARIES**"
      ]
    },
    {
      "cell_type": "code",
      "metadata": {
        "colab": {
          "base_uri": "https://localhost:8080/"
        },
        "id": "k65tSqb8iqff",
        "outputId": "b5a7638d-c2cb-45bf-e582-3141597a9dec"
      },
      "source": [
        "import nltk\n",
        "nltk.download('punkt')\n",
        "nltk.download('wordnet')\n",
        "\n"
      ],
      "execution_count": 3,
      "outputs": [
        {
          "output_type": "stream",
          "text": [
            "[nltk_data] Downloading package punkt to /root/nltk_data...\n",
            "[nltk_data]   Package punkt is already up-to-date!\n",
            "[nltk_data] Downloading package wordnet to /root/nltk_data...\n",
            "[nltk_data]   Package wordnet is already up-to-date!\n"
          ],
          "name": "stdout"
        },
        {
          "output_type": "execute_result",
          "data": {
            "text/plain": [
              "True"
            ]
          },
          "metadata": {
            "tags": []
          },
          "execution_count": 3
        }
      ]
    },
    {
      "cell_type": "code",
      "metadata": {
        "collapsed": true,
        "id": "hpfsrNJQwnYM"
      },
      "source": [
        "import numpy as np, pandas as pd\n",
        "import json\n",
        "import ast \n",
        "from textblob import TextBlob\n",
        "import spacy\n",
        "from nerd import ner\n",
        "from scipy.spatial.distance import cosine\n",
        "from nerd import ner\n",
        "\n"
      ],
      "execution_count": 4,
      "outputs": []
    },
    {
      "cell_type": "code",
      "metadata": {
        "id": "-ZwuqCX3igHd"
      },
      "source": [
        "from sentence_transformers import SentenceTransformer\n",
        "sbert_model = SentenceTransformer('bert-base-nli-mean-tokens')"
      ],
      "execution_count": 5,
      "outputs": []
    },
    {
      "cell_type": "markdown",
      "metadata": {
        "id": "n3IaCTEZGSfN"
      },
      "source": [
        "# **MAKE DICT FOR NER DETECTION**"
      ]
    },
    {
      "cell_type": "code",
      "metadata": {
        "id": "tT2wUZ1_sxzC"
      },
      "source": [
        "questionsArray=[\"when\",\"where\",\"who\",\"how much\",\"how many\",\"organization\",\"event\",\"language\",\"art\",\"law\",\"what year\",\"place\"]\n",
        "quest_dict = {}\n",
        "quest_dict[\"when\"] = [\"DATE\",\"TIME\"]\n",
        "quest_dict[\"where\"] = [\"FAC\",\"GPE\",\"LOC\"]\n",
        "quest_dict[\"who\"]= [\"PERSON\",\"NORP\",\"FAC\"] \n",
        "quest_dict[\"how much\"] = [\"MONEY\",\"QUANTITY\", \"ORDINAL\",\"CARDINAL\",\"PERCENT\"]\n",
        "quest_dict[\"how many\"] = [\"QUANTITY\", \"ORDINAL\",\"CARDINAL\",\"PERCENT\"]\n",
        "quest_dict[\"organization\"]=[\"ORG\"]\n",
        "quest_dict[\"event\"] = [\"EVENT\"]\n",
        "quest_dict[\"language\"]=[\"LANGUAGE\"]\n",
        "quest_dict[\"art\"]=[\"WORK_OF_ART\"]\n",
        "quest_dict[\"law\"]=[\"LAW\"]\n",
        "quest_dict[\"what year\"]=[\"DATE\"]\n",
        "quest_dict[\"place\"]=[\"FAC\",\"GPE\",\"LOC\"]\n",
        "\n",
        "\n"
      ],
      "execution_count": 6,
      "outputs": []
    },
    {
      "cell_type": "markdown",
      "metadata": {
        "id": "QE_W7T1PGb2S"
      },
      "source": [
        "# **READ FILE**"
      ]
    },
    {
      "cell_type": "code",
      "metadata": {
        "collapsed": true,
        "id": "VkR8AuREwnYP"
      },
      "source": [
        "def read_json(file_name,sample_num):\n",
        "  \n",
        "  with open(f\"{file_name}\") as data_file:\n",
        "      data = json.load(data_file)\n",
        "\n",
        "  column_names=[\"answer_start\",\"context\",\"question\",\"text\",\"id\"]\n",
        "  df=pd.DataFrame(columns=column_names)\n",
        "\n",
        "  count=0\n",
        "  for key, value in  data.items():\n",
        "    for x in range(len(value[\"qas\"])):\n",
        "      df=df.append({\n",
        "                  'answer_start':value[\"qas\"][x][\"answers\"][0][\"answer_start\"],\n",
        "                  'question': value[\"qas\"][x][\"question\"],\n",
        "                  'context' : value[\"context\"],\n",
        "                  'text':value[\"qas\"][x][\"answers\"][0][\"text\"],\n",
        "                  'id':  value[\"qas\"][x][\"id\"],},\n",
        "                  ignore_index=True)\n",
        "      count+=1\n",
        "    if count==sample_num:\n",
        "      break\n",
        "     \n",
        "  return df"
      ],
      "execution_count": 7,
      "outputs": []
    },
    {
      "cell_type": "markdown",
      "metadata": {
        "id": "L-RD9zKeGhsX"
      },
      "source": [
        "# **DATA PROCESS**"
      ]
    },
    {
      "cell_type": "code",
      "metadata": {
        "collapsed": true,
        "id": "C39Nuz0FwnYZ"
      },
      "source": [
        "def find_target(x):\n",
        "    index = -1\n",
        "    for i in range(len(x[\"sentences\"])):\n",
        "        if x[\"text\"] in x[\"sentences\"][i]: index = i\n",
        "    return index"
      ],
      "execution_count": 8,
      "outputs": []
    },
    {
      "cell_type": "code",
      "metadata": {
        "id": "9hC-6P1irfCr"
      },
      "source": [
        "def data_process(df):\n",
        "  df['sentences'] = df['context'].apply(lambda x: [item.raw for item in TextBlob(x).sentences])\n",
        "  df[\"target\"] = df.apply(find_target, axis = 1)\n",
        "\n",
        "  return df"
      ],
      "execution_count": 9,
      "outputs": []
    },
    {
      "cell_type": "markdown",
      "metadata": {
        "id": "kVOh9odcGnOC"
      },
      "source": [
        "# **MODEL TRAINING**"
      ]
    },
    {
      "cell_type": "code",
      "metadata": {
        "id": "4WaPDeVAvaqO"
      },
      "source": [
        "def bert_sentence_sim(df):\n",
        "  #tknzr = TweetTokenizer()\n",
        "  #lemmatizer = WordNetLemmatizer()\n",
        "  count=0\n",
        "  sim_list=[None]*len(df[\"sentences\"])\n",
        "  for i in (df[\"sentences\"]):\n",
        "\n",
        "    #We dont need to Lemmatize or tokenize the data since Bert dont need it. When we do accuracy is decreasing.\n",
        "    #i_str=lemmatizer.lemmatize(''.join(i))\n",
        "    #question_lemma=lemmatizer.lemmatize(df['question'][count])\n",
        "    \n",
        "\n",
        "    sentence_embeddings = sbert_model.encode(i)\n",
        "    query_vec = sbert_model.encode(df['question'][count])\n",
        "\n",
        "    sent_cont=0\n",
        "    d = {}\n",
        "    for sent in i:\n",
        "      sim=0\n",
        "      sim = cosine(query_vec, sbert_model.encode([sent]))\n",
        "      d[sent_cont] = sim\n",
        "      sent_cont+=1\n",
        "    sent_index=(min(d, key=d.get))\n",
        "    sim_list[count]=sent_index\n",
        "    \n",
        "    count=count+1\n",
        "     \n",
        "  df['sim_sent'] = sim_list\n",
        "  return df\n"
      ],
      "execution_count": 10,
      "outputs": []
    },
    {
      "cell_type": "code",
      "metadata": {
        "id": "IDl4pHoNzfmh"
      },
      "source": [
        "def ner_detect(df):\n",
        "  arr_answer_tuple=[None]*len(df[\"sentences\"])\n",
        "  arr_single_answer=[]\n",
        "  \n",
        "  for index in range(len(df[\"sentences\"])):\n",
        "    flag=False\n",
        "\n",
        "    answer_sentence=(df['sentences'][index][int(df['sim_sent'][index])])\n",
        "   \n",
        "    question=df['question'][index]\n",
        "\n",
        "\n",
        "    doc = ner.name(answer_sentence)\n",
        "    answer_label = [(X.text, X.label_) for X in doc] \n",
        "  \n",
        "    for quest_index in range(len(questionsArray)):\n",
        "      if questionsArray[quest_index] in df['question'].values[index].lower():\n",
        "        question_equal_tags=quest_dict[questionsArray[quest_index]]\n",
        "        \n",
        "        for simple_tag in (question_equal_tags):\n",
        "          for answer_tuple in (answer_label):  \n",
        "            if answer_tuple[1]==simple_tag:\n",
        "              flag=True\n",
        "              if (arr_answer_tuple[index]==None) :\n",
        "                arr_answer_tuple[index]=answer_tuple[0]\n",
        "              else:\n",
        "                arr_answer_tuple[index]=arr_answer_tuple[index] +\" \"+answer_tuple[0]\n",
        "    if flag==False:\n",
        "       arr_answer_tuple[index]=answer_sentence\n",
        "    else:\n",
        "      continue\n",
        "  df['last_ans'] = arr_answer_tuple    \n",
        "  \n",
        "  return df\n"
      ],
      "execution_count": 11,
      "outputs": []
    },
    {
      "cell_type": "markdown",
      "metadata": {
        "id": "Hdxeqkw1wnYY"
      },
      "source": [
        "## **EVALUATION AND TESTING**"
      ]
    },
    {
      "cell_type": "code",
      "metadata": {
        "id": "aUgXLoTtuGgs"
      },
      "source": [
        "def true_in_sentence(df):\n",
        "  true=0\n",
        "  limit=0\n",
        "  for i,a in zip(df['target'],df['sim_sent']):\n",
        "    if i==a:\n",
        "      true+=1\n",
        "    limit+=1\n",
        "    if limit==len(df[\"sentences\"]):\n",
        "      break\n",
        "  return true/len(df[\"sentences\"])"
      ],
      "execution_count": 12,
      "outputs": []
    },
    {
      "cell_type": "code",
      "metadata": {
        "id": "a0HIaWZtbwaY"
      },
      "source": [
        "def exactly_true(df):\n",
        "  true_ner=0\n",
        "  limit=0\n",
        "  for i,a in zip(df['text'],df['last_ans']):\n",
        "    if i in a:\n",
        "      true_ner+=1\n",
        "    limit+=1\n",
        "    if limit==len(df[\"sentences\"]):\n",
        "      break\n",
        "  return true_ner/len(df[\"sentences\"])"
      ],
      "execution_count": 13,
      "outputs": []
    },
    {
      "cell_type": "markdown",
      "metadata": {
        "id": "RjwpU-8gG4gH"
      },
      "source": [
        "**RESULTS**"
      ]
    },
    {
      "cell_type": "code",
      "metadata": {
        "id": "FTk4ET7fwnYd",
        "colab": {
          "base_uri": "https://localhost:8080/",
          "height": 1000
        },
        "outputId": "854aa53b-f392-4cef-8f39-956824f9a996"
      },
      "source": [
        "data = read_json(\"qa_dataset.json\",sample_num=200)\n",
        "\n",
        "data_ready=data_process(data)\n",
        "\n",
        "data_include_sim=bert_sentence_sim(data_ready)\n",
        "\n",
        "data_include_ner=ner_detect(data_include_sim)\n",
        "\n",
        "result_true=true_in_sentence(data_include_ner)\n",
        "print('Finds the sentence index of answer with accuracy',result_true)\n",
        "\n",
        "exactly_true_var=exactly_true(data_include_ner)\n",
        "print('Finds exact result or nearly exact result accuracy',exactly_true_var)\n",
        "\n",
        "(data_include_ner.head(20))\n"
      ],
      "execution_count": 16,
      "outputs": [
        {
          "output_type": "stream",
          "text": [
            "Finds the sentence index of answer with accuracy 0.535\n",
            "Finds exact result or nearly exact result accuracy 0.52\n"
          ],
          "name": "stdout"
        },
        {
          "output_type": "execute_result",
          "data": {
            "text/html": [
              "<div>\n",
              "<style scoped>\n",
              "    .dataframe tbody tr th:only-of-type {\n",
              "        vertical-align: middle;\n",
              "    }\n",
              "\n",
              "    .dataframe tbody tr th {\n",
              "        vertical-align: top;\n",
              "    }\n",
              "\n",
              "    .dataframe thead th {\n",
              "        text-align: right;\n",
              "    }\n",
              "</style>\n",
              "<table border=\"1\" class=\"dataframe\">\n",
              "  <thead>\n",
              "    <tr style=\"text-align: right;\">\n",
              "      <th></th>\n",
              "      <th>answer_start</th>\n",
              "      <th>context</th>\n",
              "      <th>question</th>\n",
              "      <th>text</th>\n",
              "      <th>id</th>\n",
              "      <th>sentences</th>\n",
              "      <th>target</th>\n",
              "      <th>sim_sent</th>\n",
              "      <th>last_ans</th>\n",
              "    </tr>\n",
              "  </thead>\n",
              "  <tbody>\n",
              "    <tr>\n",
              "      <th>0</th>\n",
              "      <td>515</td>\n",
              "      <td>Architecturally, the school has a Catholic cha...</td>\n",
              "      <td>To whom did the Virgin Mary allegedly appear i...</td>\n",
              "      <td>Saint Bernadette Soubirous</td>\n",
              "      <td>5733be284776f41900661182</td>\n",
              "      <td>[Architecturally, the school has a Catholic ch...</td>\n",
              "      <td>5</td>\n",
              "      <td>5</td>\n",
              "      <td>Virgin Mary Saint Bernadette Soubirous</td>\n",
              "    </tr>\n",
              "    <tr>\n",
              "      <th>1</th>\n",
              "      <td>188</td>\n",
              "      <td>Architecturally, the school has a Catholic cha...</td>\n",
              "      <td>What is in front of the Notre Dame Main Building?</td>\n",
              "      <td>a copper statue of Christ</td>\n",
              "      <td>5733be284776f4190066117f</td>\n",
              "      <td>[Architecturally, the school has a Catholic ch...</td>\n",
              "      <td>2</td>\n",
              "      <td>3</td>\n",
              "      <td>Next to the Main Building is the Basilica of t...</td>\n",
              "    </tr>\n",
              "    <tr>\n",
              "      <th>2</th>\n",
              "      <td>279</td>\n",
              "      <td>Architecturally, the school has a Catholic cha...</td>\n",
              "      <td>The Basilica of the Sacred heart at Notre Dame...</td>\n",
              "      <td>the Main Building</td>\n",
              "      <td>5733be284776f41900661180</td>\n",
              "      <td>[Architecturally, the school has a Catholic ch...</td>\n",
              "      <td>3</td>\n",
              "      <td>3</td>\n",
              "      <td>Next to the Main Building is the Basilica of t...</td>\n",
              "    </tr>\n",
              "    <tr>\n",
              "      <th>3</th>\n",
              "      <td>381</td>\n",
              "      <td>Architecturally, the school has a Catholic cha...</td>\n",
              "      <td>What is the Grotto at Notre Dame?</td>\n",
              "      <td>a Marian place of prayer and reflection</td>\n",
              "      <td>5733be284776f41900661181</td>\n",
              "      <td>[Architecturally, the school has a Catholic ch...</td>\n",
              "      <td>4</td>\n",
              "      <td>5</td>\n",
              "      <td>It is a replica of the grotto at Lourdes, Fran...</td>\n",
              "    </tr>\n",
              "    <tr>\n",
              "      <th>4</th>\n",
              "      <td>92</td>\n",
              "      <td>Architecturally, the school has a Catholic cha...</td>\n",
              "      <td>What sits on top of the Main Building at Notre...</td>\n",
              "      <td>a golden statue of the Virgin Mary</td>\n",
              "      <td>5733be284776f4190066117e</td>\n",
              "      <td>[Architecturally, the school has a Catholic ch...</td>\n",
              "      <td>1</td>\n",
              "      <td>3</td>\n",
              "      <td>Next to the Main Building is the Basilica of t...</td>\n",
              "    </tr>\n",
              "    <tr>\n",
              "      <th>5</th>\n",
              "      <td>248</td>\n",
              "      <td>As at most other universities, Notre Dame's st...</td>\n",
              "      <td>When did the Scholastic Magazine of Notre dame...</td>\n",
              "      <td>September 1876</td>\n",
              "      <td>5733bf84d058e614000b61be</td>\n",
              "      <td>[As at most other universities, Notre Dame's s...</td>\n",
              "      <td>2</td>\n",
              "      <td>10</td>\n",
              "      <td>Spring 2008</td>\n",
              "    </tr>\n",
              "    <tr>\n",
              "      <th>6</th>\n",
              "      <td>441</td>\n",
              "      <td>As at most other universities, Notre Dame's st...</td>\n",
              "      <td>How often is Notre Dame's the Juggler published?</td>\n",
              "      <td>twice</td>\n",
              "      <td>5733bf84d058e614000b61bf</td>\n",
              "      <td>[As at most other universities, Notre Dame's s...</td>\n",
              "      <td>3</td>\n",
              "      <td>4</td>\n",
              "      <td>The Dome yearbook is published annually.</td>\n",
              "    </tr>\n",
              "    <tr>\n",
              "      <th>7</th>\n",
              "      <td>598</td>\n",
              "      <td>As at most other universities, Notre Dame's st...</td>\n",
              "      <td>What is the daily student paper at Notre Dame ...</td>\n",
              "      <td>The Observer</td>\n",
              "      <td>5733bf84d058e614000b61c0</td>\n",
              "      <td>[As at most other universities, Notre Dame's s...</td>\n",
              "      <td>9</td>\n",
              "      <td>5</td>\n",
              "      <td>The newspapers have varying publication intere...</td>\n",
              "    </tr>\n",
              "    <tr>\n",
              "      <th>8</th>\n",
              "      <td>126</td>\n",
              "      <td>As at most other universities, Notre Dame's st...</td>\n",
              "      <td>How many student news papers are found at Notr...</td>\n",
              "      <td>three</td>\n",
              "      <td>5733bf84d058e614000b61bd</td>\n",
              "      <td>[As at most other universities, Notre Dame's s...</td>\n",
              "      <td>9</td>\n",
              "      <td>0</td>\n",
              "      <td>As at most other universities, Notre Dame's st...</td>\n",
              "    </tr>\n",
              "    <tr>\n",
              "      <th>9</th>\n",
              "      <td>908</td>\n",
              "      <td>As at most other universities, Notre Dame's st...</td>\n",
              "      <td>In what year did the student paper Common Sens...</td>\n",
              "      <td>1987</td>\n",
              "      <td>5733bf84d058e614000b61c1</td>\n",
              "      <td>[As at most other universities, Notre Dame's s...</td>\n",
              "      <td>7</td>\n",
              "      <td>10</td>\n",
              "      <td>Spring 2008</td>\n",
              "    </tr>\n",
              "    <tr>\n",
              "      <th>10</th>\n",
              "      <td>119</td>\n",
              "      <td>The university is the major seat of the Congre...</td>\n",
              "      <td>Where is the headquarters of the Congregation ...</td>\n",
              "      <td>Rome</td>\n",
              "      <td>5733bed24776f41900661188</td>\n",
              "      <td>[The university is the major seat of the Congr...</td>\n",
              "      <td>0</td>\n",
              "      <td>0</td>\n",
              "      <td>Rome</td>\n",
              "    </tr>\n",
              "    <tr>\n",
              "      <th>11</th>\n",
              "      <td>145</td>\n",
              "      <td>The university is the major seat of the Congre...</td>\n",
              "      <td>What is the primary seminary of the Congregati...</td>\n",
              "      <td>Moreau Seminary</td>\n",
              "      <td>5733bed24776f41900661189</td>\n",
              "      <td>[The university is the major seat of the Congr...</td>\n",
              "      <td>5</td>\n",
              "      <td>0</td>\n",
              "      <td>The university is the major seat of the Congre...</td>\n",
              "    </tr>\n",
              "    <tr>\n",
              "      <th>12</th>\n",
              "      <td>234</td>\n",
              "      <td>The university is the major seat of the Congre...</td>\n",
              "      <td>What is the oldest structure at Notre Dame?</td>\n",
              "      <td>Old College</td>\n",
              "      <td>5733bed24776f4190066118a</td>\n",
              "      <td>[The university is the major seat of the Congr...</td>\n",
              "      <td>2</td>\n",
              "      <td>2</td>\n",
              "      <td>Old College, the oldest building on campus and...</td>\n",
              "    </tr>\n",
              "    <tr>\n",
              "      <th>13</th>\n",
              "      <td>356</td>\n",
              "      <td>The university is the major seat of the Congre...</td>\n",
              "      <td>What individuals live at Fatima House at Notre...</td>\n",
              "      <td>Retired priests and brothers</td>\n",
              "      <td>5733bed24776f4190066118b</td>\n",
              "      <td>[The university is the major seat of the Congr...</td>\n",
              "      <td>3</td>\n",
              "      <td>0</td>\n",
              "      <td>The university is the major seat of the Congre...</td>\n",
              "    </tr>\n",
              "    <tr>\n",
              "      <th>14</th>\n",
              "      <td>675</td>\n",
              "      <td>The university is the major seat of the Congre...</td>\n",
              "      <td>Which prize did Frederick Buechner create?</td>\n",
              "      <td>Buechner Prize for Preaching</td>\n",
              "      <td>5733bed24776f4190066118c</td>\n",
              "      <td>[The university is the major seat of the Congr...</td>\n",
              "      <td>5</td>\n",
              "      <td>4</td>\n",
              "      <td>The university through the Moreau Seminary has...</td>\n",
              "    </tr>\n",
              "    <tr>\n",
              "      <th>15</th>\n",
              "      <td>487</td>\n",
              "      <td>The College of Engineering was established in ...</td>\n",
              "      <td>How many BS level degrees are offered in the C...</td>\n",
              "      <td>eight</td>\n",
              "      <td>5733a6424776f41900660f51</td>\n",
              "      <td>[The College of Engineering was established in...</td>\n",
              "      <td>1</td>\n",
              "      <td>1</td>\n",
              "      <td>five eight</td>\n",
              "    </tr>\n",
              "    <tr>\n",
              "      <th>16</th>\n",
              "      <td>46</td>\n",
              "      <td>The College of Engineering was established in ...</td>\n",
              "      <td>In what year was the College of Engineering at...</td>\n",
              "      <td>1920</td>\n",
              "      <td>5733a6424776f41900660f4e</td>\n",
              "      <td>[The College of Engineering was established in...</td>\n",
              "      <td>0</td>\n",
              "      <td>0</td>\n",
              "      <td>1920 the 1870s</td>\n",
              "    </tr>\n",
              "    <tr>\n",
              "      <th>17</th>\n",
              "      <td>126</td>\n",
              "      <td>The College of Engineering was established in ...</td>\n",
              "      <td>Before the creation of the College of Engineer...</td>\n",
              "      <td>the College of Science</td>\n",
              "      <td>5733a6424776f41900660f4f</td>\n",
              "      <td>[The College of Engineering was established in...</td>\n",
              "      <td>0</td>\n",
              "      <td>0</td>\n",
              "      <td>The College of Engineering was established in ...</td>\n",
              "    </tr>\n",
              "    <tr>\n",
              "      <th>18</th>\n",
              "      <td>271</td>\n",
              "      <td>The College of Engineering was established in ...</td>\n",
              "      <td>How many departments are within the Stinson-Re...</td>\n",
              "      <td>five</td>\n",
              "      <td>5733a6424776f41900660f50</td>\n",
              "      <td>[The College of Engineering was established in...</td>\n",
              "      <td>3</td>\n",
              "      <td>1</td>\n",
              "      <td>five eight</td>\n",
              "    </tr>\n",
              "    <tr>\n",
              "      <th>19</th>\n",
              "      <td>155</td>\n",
              "      <td>The College of Engineering was established in ...</td>\n",
              "      <td>The College of Science began to offer civil en...</td>\n",
              "      <td>the 1870s</td>\n",
              "      <td>5733a6424776f41900660f52</td>\n",
              "      <td>[The College of Engineering was established in...</td>\n",
              "      <td>0</td>\n",
              "      <td>0</td>\n",
              "      <td>The College of Engineering was established in ...</td>\n",
              "    </tr>\n",
              "  </tbody>\n",
              "</table>\n",
              "</div>"
            ],
            "text/plain": [
              "   answer_start  ...                                           last_ans\n",
              "0           515  ...             Virgin Mary Saint Bernadette Soubirous\n",
              "1           188  ...  Next to the Main Building is the Basilica of t...\n",
              "2           279  ...  Next to the Main Building is the Basilica of t...\n",
              "3           381  ...  It is a replica of the grotto at Lourdes, Fran...\n",
              "4            92  ...  Next to the Main Building is the Basilica of t...\n",
              "5           248  ...                                        Spring 2008\n",
              "6           441  ...           The Dome yearbook is published annually.\n",
              "7           598  ...  The newspapers have varying publication intere...\n",
              "8           126  ...  As at most other universities, Notre Dame's st...\n",
              "9           908  ...                                        Spring 2008\n",
              "10          119  ...                                               Rome\n",
              "11          145  ...  The university is the major seat of the Congre...\n",
              "12          234  ...  Old College, the oldest building on campus and...\n",
              "13          356  ...  The university is the major seat of the Congre...\n",
              "14          675  ...  The university through the Moreau Seminary has...\n",
              "15          487  ...                                         five eight\n",
              "16           46  ...                                     1920 the 1870s\n",
              "17          126  ...  The College of Engineering was established in ...\n",
              "18          271  ...                                         five eight\n",
              "19          155  ...  The College of Engineering was established in ...\n",
              "\n",
              "[20 rows x 9 columns]"
            ]
          },
          "metadata": {
            "tags": []
          },
          "execution_count": 16
        }
      ]
    }
  ]
}